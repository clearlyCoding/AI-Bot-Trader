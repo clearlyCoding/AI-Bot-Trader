{
 "cells": [
  {
   "cell_type": "markdown",
   "metadata": {},
   "source": [
    "Load Libraries"
   ]
  },
  {
   "cell_type": "code",
   "execution_count": 2,
   "metadata": {},
   "outputs": [],
   "source": [
    "from lumibot.brokers import Alpaca # type: ignore\n",
    "from lumibot.backtesting import PolygonDataBacktesting\n",
    "from lumibot.entities import Asset\n",
    "from lumibot.strategies.strategy import Strategy\n",
    "from lumibot.traders import Trader\n",
    "from datetime import datetime \n",
    "from alpaca_trade_api import REST  # type: ignore\n",
    "from timedelta import Timedelta  # type: ignore\n",
    "from finbert_utils import estimate_sentiment\n",
    "import numpy as np"
   ]
  },
  {
   "cell_type": "markdown",
   "metadata": {},
   "source": [
    "API"
   ]
  },
  {
   "cell_type": "code",
   "execution_count": 3,
   "metadata": {},
   "outputs": [],
   "source": [
    "API_KEY = \"PK8TNPOIWE1B6PH2PHY0\" \n",
    "API_SECRET = \"RXSRJUYMNJpniHaFAZo7MUfoe1k2WMknbGcLTev8\" \n",
    "BASE_URL = \"https://paper-api.alpaca.markets/v2\"\n",
    "POLYGONKEY = \"hwXFX1sSXE4ojhYyeKDA7BBJDlaLf6Pf\"\n",
    "tickertest = 'SOXX'\n",
    "ALPACA_CREDS = {\n",
    "    \"API_KEY\":API_KEY, \n",
    "    \"API_SECRET\": API_SECRET, \n",
    "    \"PAPER\": True\n",
    "}"
   ]
  },
  {
   "cell_type": "markdown",
   "metadata": {},
   "source": [
    "Bot?"
   ]
  },
  {
   "cell_type": "code",
   "execution_count": 4,
   "metadata": {},
   "outputs": [],
   "source": [
    "class MLTrader(Strategy): \n",
    "    data = []\n",
    "    order_number = 0\n",
    "    cash_history = 0\n",
    "    last_action = \"\"\n",
    "    action_price = 0\n",
    "    diary = {}\n",
    "    pages = {}\n",
    "    def initialize(self, symbol:str=tickertest, cash_at_risk:float=.5): \n",
    "        self.symbol = symbol\n",
    "        self.sleeptime = \"10M\"\n",
    "        self.cash_at_risk = cash_at_risk\n",
    "        self.asset = Asset(self.symbol, asset_type=Asset.AssetType.STOCK)\n",
    "        self.api = REST(base_url=BASE_URL, key_id=API_KEY, secret_key=API_SECRET)\n",
    "\n",
    "    def position_sizing(self): \n",
    "        cash = self.get_cash() \n",
    "\n",
    "        last_price = self.get_last_price(self.symbol)\n",
    "        quantity = round(cash * self.cash_at_risk / last_price,0)\n",
    "        if cash - (quantity * last_price) <self.cash_at_risk * cash:\n",
    "            quantity = 0 \n",
    "\n",
    "        return cash, last_price, quantity\n",
    "    def swing_session(self):\n",
    "        print (\"Swing session strategy engaged\")\n",
    "        cash, last_price, quantityz = self.position_sizing()\n",
    "        print(f\"Position: {self.get_position(self.symbol)}\")\n",
    "        pos = self.get_position(self.symbol)\n",
    "        self.data.append(self.get_last_price(self.symbol))\n",
    "        if len (self.data) >3:\n",
    "            temp = self.data[-3:]\n",
    "            if temp[-1] > temp[1] > temp[0] and self.last_action != \"buy\" and quantityz>0:\n",
    "                order = self.create_order(self.symbol, quantity = quantityz, side= \"buy\")\n",
    "                self.action_price = last_price\n",
    "                self.submit_order(order)\n",
    "                self.last_action = \"buy\"\n",
    "        if pos and last_price*1.45 > self.action_price and self.last_action == \"buy\":\n",
    "            self.sell_all()\n",
    "            self.last_action = \"sell\"\n",
    "\n",
    "\n",
    "    def slope_session(self):\n",
    "        ##best 10 minute interval\n",
    "        print (\"Slope session strategy engaged\")\n",
    "        cash, last_price, quantityz = self.position_sizing()\n",
    "        print(f\"Position: {self.get_position(self.symbol)}\")\n",
    "        pos = self.get_position(self.symbol)\n",
    "        self.data.append(self.get_last_price(self.symbol))\n",
    "        slope_action=0\n",
    "        if len (self.data) >=5:\n",
    "            x = self.data[-5:]\n",
    "            y = [1,2,3,4,5]\n",
    "            coefficients = np.polyfit(x,y,1)\n",
    "            slope = coefficients[0]\n",
    "            if slope >0:\n",
    "                order = self.create_order(self.symbol, quantity= quantityz, side = 'buy')\n",
    "                self.submit_order(order)\n",
    "                slope_action =slope\n",
    "            if pos and slope < slope_action:\n",
    "                self.sell_all()\n",
    "    def get_dates(self): \n",
    "        today = self.get_datetime()\n",
    "        three_days_prior = today - Timedelta(days=3)\n",
    "        return today.strftime('%Y-%m-%d'), three_days_prior.strftime('%Y-%m-%d')\n",
    "\n",
    "    def analyze_position(self):\n",
    "        fcashflow = self.get_cash()\n",
    "        budget = self.initial_budget\n",
    "        fpos = self.get_position(self.symbol)\n",
    "        lastprice = self.get_last_price(self.symbol)\n",
    "        # total_position_value = float(lastprice*fpos + fcashflow)\n",
    "        analysis = \"+\"\n",
    "        if fcashflow < self.cash_at_risk * budget:\n",
    "            analysis = \"-\"\n",
    "        return analysis\n",
    "\n",
    "\n",
    "    def get_sentiment(self): \n",
    "        today, three_days_prior = self.get_dates()\n",
    "        news = self.api.get_news(symbol=self.symbol, \n",
    "                                 start=three_days_prior, \n",
    "                                 end=today) \n",
    "        news = [ev.__dict__[\"_raw\"][\"headline\"] for ev in news]\n",
    "        probability, sentiment = estimate_sentiment(news)\n",
    "        return probability, sentiment \n",
    "\n",
    "    def extract_date(self, datetimestring):\n",
    "    # Split the string on the comma and strip any leading/trailing whitespace\n",
    "        date_part = datetimestring.split(',')[0].strip()\n",
    "        date_part = datetime.strptime(date_part, '%Y-%m-%d').date()\n",
    "        return date_part\n",
    "\n",
    "    def on_trading_iteration(self):\n",
    "        cash, last_price, quantityz = self.position_sizing()\n",
    "        today = self.get_datetime().strftime('%Y-%m-%d')\n",
    "        time = self.get_datetime().strftime('%H:%M:%S')\n",
    "        datetimestring = today + \" , \" + time\n",
    "        print(datetimestring)\n",
    "        orderamt = 0\n",
    "        dellist = []\n",
    "        # probability, sentiment  = self.get_sentiment() \n",
    "        \n",
    "        pos = self.get_position(self.symbol)\n",
    "        self.data.append(self.get_last_price(self.symbol))\n",
    "        if len (self.data) >=5:\n",
    "            x = self.data[-5:]\n",
    "            y = [1,2,3,4,5]\n",
    "            coefficients = np.polyfit(x,y,1)\n",
    "            slope = coefficients[0]\n",
    "            if slope> 0 and quantityz>0 and self.analyze_position() == \"+\":\n",
    "                order = self.create_order(self.symbol, quantity= quantityz, side = 'buy')\n",
    "                self.diary[datetimestring] = [last_price, quantityz]\n",
    "                # self.pages[today] = self.diary[last_price]\n",
    "                self.submit_order(order)\n",
    "                slope_action =slope\n",
    "                self.action_price = last_price\n",
    "                self.last_action = \"buy\"\n",
    "                if cash <self.cash_at_risk*cash:\n",
    "                    self.sell_all()\n",
    "                    dellist.clear()\n",
    "                    orderamt = 0          \n",
    "\n",
    "        for date, details in self.diary.items():\n",
    "            date1 = datetime.strptime(today, '%Y-%m-%d').date()\n",
    "            date2 = self.extract_date(date)\n",
    "            \n",
    "            difference_in_days = date1 - date2\n",
    "            \n",
    "            if last_price >= details[0]*1.15:\n",
    "                orderamt += details[1]\n",
    "                details[1] = 0  \n",
    "                # print (f\"purcahsed {details[1]} for {details[0]} on {date}, current price is {last_price} on {today} - Stale Status {difference_in_days.days}\")\n",
    "                \n",
    "            if int(difference_in_days.days) >=30 and details[0]*1.06 > last_price>= details[0]*1.001:\n",
    "                orderamt += details[1]\n",
    "                details[1] = 0\n",
    "            if 30> int(difference_in_days.days) >15 and details[0]*1.15 > last_price >= details[0]*1.06:\n",
    "                orderamt += details[1]  \n",
    "                details[1] = 0\n",
    "            \n",
    "\n",
    "        if orderamt > 0:\n",
    "            order = self.create_order(self.symbol, quantity= orderamt, side = \"sell\" ) #sell at 15% threshold profit\n",
    "            self.submit_order (order)\n",
    "            orderamt = 0\n",
    "\n",
    "        # print(f\"Position: {self.get_position(self.symbol)}, free cash flow : {cash}\")\n",
    "\n",
    "        # today = self.get_datetime()\n",
    "        # print (today.strftime('%Y-%m-%d'))\n",
    "        # print (self.diary)\n",
    "        if today == ('2023-12-21'):\n",
    "            self.sell_all()"
   ]
  },
  {
   "cell_type": "markdown",
   "metadata": {},
   "source": [
    "Trying Bot?"
   ]
  },
  {
   "cell_type": "code",
   "execution_count": 5,
   "metadata": {},
   "outputs": [
    {
     "name": "stderr",
     "output_type": "stream",
     "text": [
      "2024-04-20 13:34:00 | asyncio | INFO | [unknown] Waiting for the socket stream connection to be established, \n",
      "                method _stream_established must be called\n",
      "2024-04-20 13:34:00 | alpaca.trading.stream | INFO | started trading stream\n",
      "2024-04-20 13:34:00 | alpaca.trading.stream | INFO | starting trading websocket connection\n",
      "2024-04-20 13:34:01 | alpaca.trading.stream | INFO | connected to: wss://paper-api.alpaca.markets/stream\n",
      "2024-04-20 13:34:01 | backtest_stats | INFO | Starting backtest...\n"
     ]
    },
    {
     "name": "stdout",
     "output_type": "stream",
     "text": [
      "Starting backtest for MLTrader...\n"
     ]
    },
    {
     "name": "stderr",
     "output_type": "stream",
     "text": [
      "2024-04-20 13:34:01 | root | INFO | Backtesting starting...\n"
     ]
    },
    {
     "name": "stdout",
     "output_type": "stream",
     "text": [
      "Progress |\u001b[32m\u001b[0m|   1.60%  [Elapsed: 0:00:01 ETA: 0:01:10] "
     ]
    },
    {
     "name": "stderr",
     "output_type": "stream",
     "text": [
      "\n",
      "Downloading data for SOXX / USD 'minute' from Polygon...:   0%|          | 0/6 [00:00<?, ?it/s]"
     ]
    },
    {
     "name": "stdout",
     "output_type": "stream",
     "text": [
      "\n",
      "Sleeping 60 seconds while price data for SOXX from Polygon because we don't want to hit the rate limit. IT IS NORMAL FOR THIS TEXT TO SHOW UP SEVERAL TIMES and IT MAY TAKE UP TO 10 MINUTES PER ASSET while we download all the data from Polygon. The next time you run this it should be faster because the data will be cached to your machine. \n",
      "If you want this to go faster, you can get a paid Polygon subscription at https://polygon.io/pricing and set `polygon_has_paid_subscription=True` when starting the backtest.\n",
      "\n"
     ]
    }
   ],
   "source": [
    "start_date = datetime(2023,1,1)\n",
    "end_date = datetime(2023,5,31) \n",
    "broker = Alpaca(ALPACA_CREDS) \n",
    "strategy = MLTrader(name='mlstrat', broker=broker, \n",
    "                    parameters={\"symbol\":tickertest, \n",
    "                                \"cash_at_risk\":.5})\n",
    "\n",
    "\n",
    "data_source = PolygonDataBacktesting(\n",
    "    datetime_start=start_date,\n",
    "    datetime_end=end_date,\n",
    "    api_key= POLYGONKEY,\n",
    "    has_paid_subscription=False,  # Set this to True if you have a paid subscription to polygon.io (False assumes you are using the free tier)\n",
    ")\n",
    "strategy.backtest(\n",
    "    PolygonDataBacktesting, \n",
    "    start_date, \n",
    "    end_date, \n",
    "    benchmark_asset = tickertest,\n",
    "    api_key=POLYGONKEY\n",
    ")\n",
    "# trader = Trader()\n",
    "# trader.add_strategy(strategy)\n",
    "# trader.run_all()"
   ]
  }
 ],
 "metadata": {
  "kernelspec": {
   "display_name": "Python 3",
   "language": "python",
   "name": "python3"
  },
  "language_info": {
   "codemirror_mode": {
    "name": "ipython",
    "version": 3
   },
   "file_extension": ".py",
   "mimetype": "text/x-python",
   "name": "python",
   "nbconvert_exporter": "python",
   "pygments_lexer": "ipython3",
   "version": "3.10.4"
  }
 },
 "nbformat": 4,
 "nbformat_minor": 2
}
